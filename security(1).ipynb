{
 "cells": [
  {
   "cell_type": "code",
   "execution_count": 5,
   "metadata": {},
   "outputs": [],
   "source": [
    "import numpy as np\n",
    "import pandas as pd\n",
    "import seaborn as sns\n",
    "import matplotlib.pyplot as plt"
   ]
  },
  {
   "cell_type": "code",
   "execution_count": 6,
   "metadata": {},
   "outputs": [
    {
     "data": {
      "text/html": [
       "<div>\n",
       "<style scoped>\n",
       "    .dataframe tbody tr th:only-of-type {\n",
       "        vertical-align: middle;\n",
       "    }\n",
       "\n",
       "    .dataframe tbody tr th {\n",
       "        vertical-align: top;\n",
       "    }\n",
       "\n",
       "    .dataframe thead th {\n",
       "        text-align: right;\n",
       "    }\n",
       "</style>\n",
       "<table border=\"1\" class=\"dataframe\">\n",
       "  <thead>\n",
       "    <tr style=\"text-align: right;\">\n",
       "      <th></th>\n",
       "      <th>Timestamp</th>\n",
       "      <th>Username</th>\n",
       "      <th>What is your age?</th>\n",
       "      <th>Gender?</th>\n",
       "      <th>What is your occupation?</th>\n",
       "      <th>Current Designation of your job?</th>\n",
       "      <th>Do you use any smart device?</th>\n",
       "      <th>How much time you spend for smart device in a day?</th>\n",
       "      <th>Do you concern/know about your data security?</th>\n",
       "      <th>Do you have/store any confidential data in your device?</th>\n",
       "      <th>Which antivirus/tools you use for security purpose?(if answer is no, write only \"No\")</th>\n",
       "      <th>Did you notice ever that your system is hacked?</th>\n",
       "      <th>Do you have any idea about your system or application vulnerability which causes loosing of data?</th>\n",
       "    </tr>\n",
       "  </thead>\n",
       "  <tbody>\n",
       "    <tr>\n",
       "      <th>0</th>\n",
       "      <td>2018/11/27 3:07:20 AM PST</td>\n",
       "      <td>yeasinur40-514@diu.edu.bd</td>\n",
       "      <td>20</td>\n",
       "      <td>Male</td>\n",
       "      <td>students</td>\n",
       "      <td>student</td>\n",
       "      <td>Both</td>\n",
       "      <td>5-6 hours</td>\n",
       "      <td>Yes</td>\n",
       "      <td>Yes</td>\n",
       "      <td>McAfee</td>\n",
       "      <td>No</td>\n",
       "      <td>Yes</td>\n",
       "    </tr>\n",
       "    <tr>\n",
       "      <th>1</th>\n",
       "      <td>2018/11/27 3:07:37 AM PST</td>\n",
       "      <td>mahmudrony.kgc@gmail.com</td>\n",
       "      <td>23</td>\n",
       "      <td>Male</td>\n",
       "      <td>students</td>\n",
       "      <td>Freelancer</td>\n",
       "      <td>Both</td>\n",
       "      <td>8-10 hours</td>\n",
       "      <td>Yes</td>\n",
       "      <td>Yes</td>\n",
       "      <td>Kaspersky Total Security 2018 Genuine</td>\n",
       "      <td>No</td>\n",
       "      <td>Yes</td>\n",
       "    </tr>\n",
       "    <tr>\n",
       "      <th>2</th>\n",
       "      <td>2018/11/27 3:33:08 AM PST</td>\n",
       "      <td>adiba40-529@diu.edu.bd</td>\n",
       "      <td>21</td>\n",
       "      <td>Female</td>\n",
       "      <td>students</td>\n",
       "      <td>student</td>\n",
       "      <td>Both</td>\n",
       "      <td>4 to 4 hour</td>\n",
       "      <td>Yes</td>\n",
       "      <td>Yes</td>\n",
       "      <td>No</td>\n",
       "      <td>No</td>\n",
       "      <td>No</td>\n",
       "    </tr>\n",
       "    <tr>\n",
       "      <th>3</th>\n",
       "      <td>2018/11/27 3:41:57 AM PST</td>\n",
       "      <td>abid40-532@diu.edu.bd</td>\n",
       "      <td>21</td>\n",
       "      <td>Male</td>\n",
       "      <td>students</td>\n",
       "      <td>student</td>\n",
       "      <td>Both</td>\n",
       "      <td>4/5 hours</td>\n",
       "      <td>No</td>\n",
       "      <td>No</td>\n",
       "      <td>Escan</td>\n",
       "      <td>Yes</td>\n",
       "      <td>No</td>\n",
       "    </tr>\n",
       "    <tr>\n",
       "      <th>4</th>\n",
       "      <td>2018/11/27 4:05:48 AM PST</td>\n",
       "      <td>abdullahalabid9@gmail.com</td>\n",
       "      <td>21</td>\n",
       "      <td>Male</td>\n",
       "      <td>students</td>\n",
       "      <td>student</td>\n",
       "      <td>Both</td>\n",
       "      <td>4 Hour</td>\n",
       "      <td>Yes</td>\n",
       "      <td>No</td>\n",
       "      <td>No</td>\n",
       "      <td>No</td>\n",
       "      <td>Yes</td>\n",
       "    </tr>\n",
       "  </tbody>\n",
       "</table>\n",
       "</div>"
      ],
      "text/plain": [
       "                   Timestamp                   Username What is your age?  \\\n",
       "0  2018/11/27 3:07:20 AM PST  yeasinur40-514@diu.edu.bd                20   \n",
       "1  2018/11/27 3:07:37 AM PST   mahmudrony.kgc@gmail.com                23   \n",
       "2  2018/11/27 3:33:08 AM PST     adiba40-529@diu.edu.bd                21   \n",
       "3  2018/11/27 3:41:57 AM PST      abid40-532@diu.edu.bd                21   \n",
       "4  2018/11/27 4:05:48 AM PST  abdullahalabid9@gmail.com                21   \n",
       "\n",
       "  Gender? What is your occupation? Current Designation of your job?  \\\n",
       "0    Male                 students                          student   \n",
       "1    Male                 students                       Freelancer   \n",
       "2  Female                 students                          student   \n",
       "3    Male                 students                          student   \n",
       "4    Male                 students                          student   \n",
       "\n",
       "  Do you use any smart device?  \\\n",
       "0                         Both   \n",
       "1                         Both   \n",
       "2                         Both   \n",
       "3                         Both   \n",
       "4                         Both   \n",
       "\n",
       "  How much time you spend for smart device in a day?  \\\n",
       "0                                          5-6 hours   \n",
       "1                                         8-10 hours   \n",
       "2                                        4 to 4 hour   \n",
       "3                                          4/5 hours   \n",
       "4                                            4 Hour    \n",
       "\n",
       "  Do you concern/know about your data security?  \\\n",
       "0                                           Yes   \n",
       "1                                           Yes   \n",
       "2                                           Yes   \n",
       "3                                            No   \n",
       "4                                           Yes   \n",
       "\n",
       "  Do you have/store any confidential data in your device?  \\\n",
       "0                                                Yes        \n",
       "1                                                Yes        \n",
       "2                                                Yes        \n",
       "3                                                 No        \n",
       "4                                                 No        \n",
       "\n",
       "  Which antivirus/tools you use for security purpose?(if answer is no, write only \"No\")  \\\n",
       "0                                             McAfee                                      \n",
       "1              Kaspersky Total Security 2018 Genuine                                      \n",
       "2                                                 No                                      \n",
       "3                                              Escan                                      \n",
       "4                                                 No                                      \n",
       "\n",
       "  Did you notice ever that your system is hacked?  \\\n",
       "0                                              No   \n",
       "1                                              No   \n",
       "2                                              No   \n",
       "3                                             Yes   \n",
       "4                                              No   \n",
       "\n",
       "  Do you have any idea about your system or application vulnerability which causes loosing of data?  \n",
       "0                                                Yes                                                 \n",
       "1                                                Yes                                                 \n",
       "2                                                 No                                                 \n",
       "3                                                 No                                                 \n",
       "4                                                Yes                                                 "
      ]
     },
     "execution_count": 6,
     "metadata": {},
     "output_type": "execute_result"
    }
   ],
   "source": [
    "df = pd.read_csv(r'C:\\Users\\NOBEL\\Desktop\\Python\\security Survey12.csv')\n",
    "df.head()"
   ]
  },
  {
   "cell_type": "code",
   "execution_count": 7,
   "metadata": {},
   "outputs": [
    {
     "data": {
      "text/plain": [
       "Timestamp                                                                                             0\n",
       "Username                                                                                              0\n",
       "What is your age?                                                                                     2\n",
       "Gender?                                                                                               0\n",
       "What is your occupation?                                                                              0\n",
       "Current Designation of your job?                                                                      0\n",
       "Do you use any smart device?                                                                          0\n",
       "How much time you spend for smart device in a day?                                                   12\n",
       "Do you concern/know about your data security?                                                         0\n",
       "Do you have/store any confidential data in your device?                                               0\n",
       "Which antivirus/tools you use for security purpose?(if answer is no, write only \"No\")                 0\n",
       "Did you notice ever that your system is hacked?                                                       0\n",
       "Do you have any idea about your system or application vulnerability which causes loosing of data?     0\n",
       "dtype: int64"
      ]
     },
     "execution_count": 7,
     "metadata": {},
     "output_type": "execute_result"
    }
   ],
   "source": [
    "df.isnull().sum()"
   ]
  },
  {
   "cell_type": "code",
   "execution_count": 8,
   "metadata": {},
   "outputs": [
    {
     "data": {
      "text/html": [
       "<div>\n",
       "<style scoped>\n",
       "    .dataframe tbody tr th:only-of-type {\n",
       "        vertical-align: middle;\n",
       "    }\n",
       "\n",
       "    .dataframe tbody tr th {\n",
       "        vertical-align: top;\n",
       "    }\n",
       "\n",
       "    .dataframe thead th {\n",
       "        text-align: right;\n",
       "    }\n",
       "</style>\n",
       "<table border=\"1\" class=\"dataframe\">\n",
       "  <thead>\n",
       "    <tr style=\"text-align: right;\">\n",
       "      <th></th>\n",
       "      <th>Timestamp</th>\n",
       "      <th>Username</th>\n",
       "      <th>What is your age?</th>\n",
       "      <th>Gender?</th>\n",
       "      <th>What is your occupation?</th>\n",
       "      <th>Current Designation of your job?</th>\n",
       "      <th>Do you use any smart device?</th>\n",
       "      <th>How much time you spend for smart device in a day?</th>\n",
       "      <th>Do you concern/know about your data security?</th>\n",
       "      <th>Do you have/store any confidential data in your device?</th>\n",
       "      <th>Which antivirus/tools you use for security purpose?(if answer is no, write only \"No\")</th>\n",
       "      <th>Did you notice ever that your system is hacked?</th>\n",
       "      <th>Do you have any idea about your system or application vulnerability which causes loosing of data?</th>\n",
       "    </tr>\n",
       "  </thead>\n",
       "  <tbody>\n",
       "    <tr>\n",
       "      <th>count</th>\n",
       "      <td>279</td>\n",
       "      <td>279</td>\n",
       "      <td>277</td>\n",
       "      <td>279</td>\n",
       "      <td>279</td>\n",
       "      <td>279</td>\n",
       "      <td>279</td>\n",
       "      <td>267</td>\n",
       "      <td>279</td>\n",
       "      <td>279</td>\n",
       "      <td>279</td>\n",
       "      <td>279</td>\n",
       "      <td>279</td>\n",
       "    </tr>\n",
       "    <tr>\n",
       "      <th>unique</th>\n",
       "      <td>279</td>\n",
       "      <td>224</td>\n",
       "      <td>23</td>\n",
       "      <td>2</td>\n",
       "      <td>3</td>\n",
       "      <td>34</td>\n",
       "      <td>4</td>\n",
       "      <td>141</td>\n",
       "      <td>2</td>\n",
       "      <td>2</td>\n",
       "      <td>36</td>\n",
       "      <td>3</td>\n",
       "      <td>2</td>\n",
       "    </tr>\n",
       "    <tr>\n",
       "      <th>top</th>\n",
       "      <td>2018/12/20 2:13:05 AM PST</td>\n",
       "      <td>kmimranhos@gmail.com</td>\n",
       "      <td>20</td>\n",
       "      <td>Male</td>\n",
       "      <td>students</td>\n",
       "      <td>student</td>\n",
       "      <td>Both</td>\n",
       "      <td>18hours</td>\n",
       "      <td>Yes</td>\n",
       "      <td>Yes</td>\n",
       "      <td>No</td>\n",
       "      <td>Maybe</td>\n",
       "      <td>No</td>\n",
       "    </tr>\n",
       "    <tr>\n",
       "      <th>freq</th>\n",
       "      <td>1</td>\n",
       "      <td>4</td>\n",
       "      <td>80</td>\n",
       "      <td>208</td>\n",
       "      <td>252</td>\n",
       "      <td>230</td>\n",
       "      <td>216</td>\n",
       "      <td>14</td>\n",
       "      <td>210</td>\n",
       "      <td>144</td>\n",
       "      <td>173</td>\n",
       "      <td>121</td>\n",
       "      <td>179</td>\n",
       "    </tr>\n",
       "  </tbody>\n",
       "</table>\n",
       "</div>"
      ],
      "text/plain": [
       "                        Timestamp              Username What is your age?  \\\n",
       "count                         279                   279               277   \n",
       "unique                        279                   224                23   \n",
       "top     2018/12/20 2:13:05 AM PST  kmimranhos@gmail.com                20   \n",
       "freq                            1                     4                80   \n",
       "\n",
       "       Gender? What is your occupation? Current Designation of your job?  \\\n",
       "count      279                      279                              279   \n",
       "unique       2                        3                               34   \n",
       "top       Male                 students                          student   \n",
       "freq       208                      252                              230   \n",
       "\n",
       "       Do you use any smart device?  \\\n",
       "count                           279   \n",
       "unique                            4   \n",
       "top                            Both   \n",
       "freq                            216   \n",
       "\n",
       "       How much time you spend for smart device in a day?  \\\n",
       "count                                                 267   \n",
       "unique                                                141   \n",
       "top                                               18hours   \n",
       "freq                                                   14   \n",
       "\n",
       "       Do you concern/know about your data security?  \\\n",
       "count                                            279   \n",
       "unique                                             2   \n",
       "top                                              Yes   \n",
       "freq                                             210   \n",
       "\n",
       "       Do you have/store any confidential data in your device?  \\\n",
       "count                                                 279        \n",
       "unique                                                  2        \n",
       "top                                                   Yes        \n",
       "freq                                                  144        \n",
       "\n",
       "       Which antivirus/tools you use for security purpose?(if answer is no, write only \"No\")  \\\n",
       "count                                                 279                                      \n",
       "unique                                                 36                                      \n",
       "top                                                    No                                      \n",
       "freq                                                  173                                      \n",
       "\n",
       "       Did you notice ever that your system is hacked?  \\\n",
       "count                                              279   \n",
       "unique                                               3   \n",
       "top                                              Maybe   \n",
       "freq                                               121   \n",
       "\n",
       "       Do you have any idea about your system or application vulnerability which causes loosing of data?  \n",
       "count                                                 279                                                 \n",
       "unique                                                  2                                                 \n",
       "top                                                    No                                                 \n",
       "freq                                                  179                                                 "
      ]
     },
     "execution_count": 8,
     "metadata": {},
     "output_type": "execute_result"
    }
   ],
   "source": [
    "df.describe()"
   ]
  },
  {
   "cell_type": "code",
   "execution_count": 9,
   "metadata": {},
   "outputs": [],
   "source": [
    "df = df.drop(['Timestamp','Username'],axis = 1)\n",
    "df.columns= ['Age','Gender', 'Occupation', 'Current Dsignation', 'Do you use any smart device?','Internet Hours','Do you concern/know about your data security?', 'Do you have/store any confidential data in your device?', 'Security Tool','Did you notice ever that your system is hacked?','Do you have any idea about your system or application vulnerability which causes loosing of data?']"
   ]
  },
  {
   "cell_type": "code",
   "execution_count": 10,
   "metadata": {},
   "outputs": [
    {
     "data": {
      "text/plain": [
       "array(['Yes', 'No'], dtype=object)"
      ]
     },
     "execution_count": 10,
     "metadata": {},
     "output_type": "execute_result"
    }
   ],
   "source": [
    "df['Do you concern/know about your data security?'].unique()"
   ]
  },
  {
   "cell_type": "code",
   "execution_count": 11,
   "metadata": {},
   "outputs": [
    {
     "data": {
      "text/html": [
       "<div>\n",
       "<style scoped>\n",
       "    .dataframe tbody tr th:only-of-type {\n",
       "        vertical-align: middle;\n",
       "    }\n",
       "\n",
       "    .dataframe tbody tr th {\n",
       "        vertical-align: top;\n",
       "    }\n",
       "\n",
       "    .dataframe thead th {\n",
       "        text-align: right;\n",
       "    }\n",
       "</style>\n",
       "<table border=\"1\" class=\"dataframe\">\n",
       "  <thead>\n",
       "    <tr style=\"text-align: right;\">\n",
       "      <th></th>\n",
       "      <th>Age</th>\n",
       "      <th>Gender</th>\n",
       "      <th>Occupation</th>\n",
       "      <th>Current Dsignation</th>\n",
       "      <th>Do you use any smart device?</th>\n",
       "      <th>Internet Hours</th>\n",
       "      <th>Do you concern/know about your data security?</th>\n",
       "      <th>Do you have/store any confidential data in your device?</th>\n",
       "      <th>Security Tool</th>\n",
       "      <th>Did you notice ever that your system is hacked?</th>\n",
       "      <th>Do you have any idea about your system or application vulnerability which causes loosing of data?</th>\n",
       "    </tr>\n",
       "  </thead>\n",
       "  <tbody>\n",
       "    <tr>\n",
       "      <th>0</th>\n",
       "      <td>20</td>\n",
       "      <td>Male</td>\n",
       "      <td>students</td>\n",
       "      <td>student</td>\n",
       "      <td>Both</td>\n",
       "      <td>5-6 hours</td>\n",
       "      <td>1</td>\n",
       "      <td>Yes</td>\n",
       "      <td>McAfee</td>\n",
       "      <td>No</td>\n",
       "      <td>Yes</td>\n",
       "    </tr>\n",
       "    <tr>\n",
       "      <th>1</th>\n",
       "      <td>23</td>\n",
       "      <td>Male</td>\n",
       "      <td>students</td>\n",
       "      <td>Freelancer</td>\n",
       "      <td>Both</td>\n",
       "      <td>8-10 hours</td>\n",
       "      <td>1</td>\n",
       "      <td>Yes</td>\n",
       "      <td>Kaspersky Total Security 2018 Genuine</td>\n",
       "      <td>No</td>\n",
       "      <td>Yes</td>\n",
       "    </tr>\n",
       "    <tr>\n",
       "      <th>2</th>\n",
       "      <td>21</td>\n",
       "      <td>Female</td>\n",
       "      <td>students</td>\n",
       "      <td>student</td>\n",
       "      <td>Both</td>\n",
       "      <td>4 to 4 hour</td>\n",
       "      <td>1</td>\n",
       "      <td>Yes</td>\n",
       "      <td>No</td>\n",
       "      <td>No</td>\n",
       "      <td>No</td>\n",
       "    </tr>\n",
       "    <tr>\n",
       "      <th>3</th>\n",
       "      <td>21</td>\n",
       "      <td>Male</td>\n",
       "      <td>students</td>\n",
       "      <td>student</td>\n",
       "      <td>Both</td>\n",
       "      <td>4/5 hours</td>\n",
       "      <td>0</td>\n",
       "      <td>No</td>\n",
       "      <td>Escan</td>\n",
       "      <td>Yes</td>\n",
       "      <td>No</td>\n",
       "    </tr>\n",
       "    <tr>\n",
       "      <th>4</th>\n",
       "      <td>21</td>\n",
       "      <td>Male</td>\n",
       "      <td>students</td>\n",
       "      <td>student</td>\n",
       "      <td>Both</td>\n",
       "      <td>4 Hour</td>\n",
       "      <td>1</td>\n",
       "      <td>No</td>\n",
       "      <td>No</td>\n",
       "      <td>No</td>\n",
       "      <td>Yes</td>\n",
       "    </tr>\n",
       "  </tbody>\n",
       "</table>\n",
       "</div>"
      ],
      "text/plain": [
       "  Age  Gender Occupation Current Dsignation Do you use any smart device?  \\\n",
       "0  20    Male   students            student                         Both   \n",
       "1  23    Male   students         Freelancer                         Both   \n",
       "2  21  Female   students            student                         Both   \n",
       "3  21    Male   students            student                         Both   \n",
       "4  21    Male   students            student                         Both   \n",
       "\n",
       "  Internet Hours  Do you concern/know about your data security?  \\\n",
       "0      5-6 hours                                              1   \n",
       "1     8-10 hours                                              1   \n",
       "2    4 to 4 hour                                              1   \n",
       "3      4/5 hours                                              0   \n",
       "4        4 Hour                                               1   \n",
       "\n",
       "  Do you have/store any confidential data in your device?  \\\n",
       "0                                                Yes        \n",
       "1                                                Yes        \n",
       "2                                                Yes        \n",
       "3                                                 No        \n",
       "4                                                 No        \n",
       "\n",
       "                           Security Tool  \\\n",
       "0                                 McAfee   \n",
       "1  Kaspersky Total Security 2018 Genuine   \n",
       "2                                     No   \n",
       "3                                  Escan   \n",
       "4                                     No   \n",
       "\n",
       "  Did you notice ever that your system is hacked?  \\\n",
       "0                                              No   \n",
       "1                                              No   \n",
       "2                                              No   \n",
       "3                                             Yes   \n",
       "4                                              No   \n",
       "\n",
       "  Do you have any idea about your system or application vulnerability which causes loosing of data?  \n",
       "0                                                Yes                                                 \n",
       "1                                                Yes                                                 \n",
       "2                                                 No                                                 \n",
       "3                                                 No                                                 \n",
       "4                                                Yes                                                 "
      ]
     },
     "execution_count": 11,
     "metadata": {},
     "output_type": "execute_result"
    }
   ],
   "source": [
    "df1={'Yes':1,'No':0}\n",
    "df['Do you concern/know about your data security?']=df['Do you concern/know about your data security?'].map(df1)\n",
    "df.head()"
   ]
  },
  {
   "cell_type": "code",
   "execution_count": 12,
   "metadata": {},
   "outputs": [
    {
     "name": "stderr",
     "output_type": "stream",
     "text": [
      "C:\\Users\\NOBEL\\Anaconda3\\lib\\site-packages\\scipy\\stats\\stats.py:1713: FutureWarning: Using a non-tuple sequence for multidimensional indexing is deprecated; use `arr[tuple(seq)]` instead of `arr[seq]`. In the future this will be interpreted as an array index, `arr[np.array(seq)]`, which will result either in an error or a different result.\n",
      "  return np.add.reduce(sorted[indexer] * weights, axis=axis) / sumval\n"
     ]
    },
    {
     "data": {
      "image/png": "[encoded data removed]",
      "text/plain": [
       "<Figure size 864x504 with 1 Axes>"
      ]
     },
     "metadata": {
      "needs_background": "light"
     },
     "output_type": "display_data"
    },
    {
     "data": {
      "image/png": "[encoded data removed]",
      "text/plain": [
       "<Figure size 864x504 with 1 Axes>"
      ]
     },
     "metadata": {
      "needs_background": "light"
     },
     "output_type": "display_data"
    },
    {
     "data": {
      "image/png": "[encoded data removed]",
      "text/plain": [
       "<Figure size 864x504 with 1 Axes>"
      ]
     },
     "metadata": {
      "needs_background": "light"
     },
     "output_type": "display_data"
    }
   ],
   "source": [
    "plt.rcParams['figure.figsize'] = (12, 7)\n",
    "sns.barplot(x=\"Gender\",y = 'Do you concern/know about your data security?', data=df, palette='colorblind')\n",
    "plt.show()\n",
    "sns.barplot(x=\"Occupation\",y = 'Do you concern/know about your data security?', data=df, palette='colorblind')\n",
    "plt.show()\n",
    "sns.barplot(x=\"Age\",y = 'Do you concern/know about your data security?', data=df, palette='colorblind')\n",
    "plt.show()\n",
    "plt.rcParams['figure.figsize'] = (12, 6)\n"
   ]
  },
  {
   "cell_type": "code",
   "execution_count": 41,
   "metadata": {},
   "outputs": [
    {
     "data": {
      "image/png": "[encoded data removed]",
      "text/plain": [
       "<Figure size 864x432 with 1 Axes>"
      ]
     },
     "metadata": {
      "needs_background": "light"
     },
     "output_type": "display_data"
    },
    {
     "data": {
      "image/png": "[encoded data removed]",
      "text/plain": [
       "<Figure size 864x432 with 1 Axes>"
      ]
     },
     "metadata": {
      "needs_background": "light"
     },
     "output_type": "display_data"
    },
    {
     "data": {
      "image/png": "[encoded data removed]",
      "text/plain": [
       "<Figure size 864x432 with 1 Axes>"
      ]
     },
     "metadata": {
      "needs_background": "light"
     },
     "output_type": "display_data"
    },
    {
     "data": {
      "text/plain": [
       "<Figure size 864x432 with 0 Axes>"
      ]
     },
     "metadata": {},
     "output_type": "display_data"
    }
   ],
   "source": [
    "sns.lineplot(x = \"Age\",y='Do you concern/know about your data security?',data = df,ci=None)\n",
    "plt.show()\n",
    "sns.lineplot(x = \"Occupation\",y='Do you concern/know about your data security?',data = df,ci=None)\n",
    "plt.show()\n",
    "sns.lineplot(x = \"Gender\",y='Do you concern/know about your data security?',data = df,ci=None)\n",
    "plt.show()"
   ]
  },
  {
   "cell_type": "code",
   "execution_count": 2,
   "metadata": {},
   "outputs": [
    {
     "ename": "NameError",
     "evalue": "name 'df' is not defined",
     "output_type": "error",
     "traceback": [
      "\u001b[1;31m---------------------------------------------------------------------------\u001b[0m",
      "\u001b[1;31mNameError\u001b[0m                                 Traceback (most recent call last)",
      "\u001b[1;32m<ipython-input-2-9764166ac707>\u001b[0m in \u001b[0;36m<module>\u001b[1;34m\u001b[0m\n\u001b[1;32m----> 1\u001b[1;33m \u001b[0mdf\u001b[0m\u001b[1;33m.\u001b[0m\u001b[0mto_csv\u001b[0m\u001b[1;33m(\u001b[0m\u001b[1;34mr'C:\\Users\\NOBEL\\Desktop\\Python\\securityupdate.csv'\u001b[0m\u001b[1;33m,\u001b[0m\u001b[0mindex\u001b[0m\u001b[1;33m=\u001b[0m\u001b[1;32mFalse\u001b[0m\u001b[1;33m)\u001b[0m\u001b[1;33m\u001b[0m\u001b[1;33m\u001b[0m\u001b[0m\n\u001b[0m",
      "\u001b[1;31mNameError\u001b[0m: name 'df' is not defined"
     ]
    }
   ],
   "source": [
    "df.to_csv(r'C:\\Users\\NOBEL\\Desktop\\Python\\securityupdate.csv',index=False)"
   ]
  },
  {
   "cell_type": "code",
   "execution_count": null,
   "metadata": {},
   "outputs": [],
   "source": []
  }
 ],
 "metadata": {
  "kernelspec": {
   "display_name": "Python 3",
   "language": "python",
   "name": "python3"
  },
  "language_info": {
   "codemirror_mode": {
    "name": "ipython",
    "version": 3
   },
   "file_extension": ".py",
   "mimetype": "text/x-python",
   "name": "python",
   "nbconvert_exporter": "python",
   "pygments_lexer": "ipython3",
   "version": "3.7.1"
  }
 },
 "nbformat": 4,
 "nbformat_minor": 2
}
